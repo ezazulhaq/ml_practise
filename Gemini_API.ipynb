{
 "cells": [
  {
   "cell_type": "code",
   "execution_count": 1,
   "metadata": {},
   "outputs": [],
   "source": [
    "from util import get_api_key\n"
   ]
  },
  {
   "cell_type": "code",
   "execution_count": 2,
   "metadata": {},
   "outputs": [],
   "source": [
    "import google.generativeai as genai\n",
    "\n",
    "genai.configure(\n",
    "    api_key=get_api_key()\n",
    ")"
   ]
  },
  {
   "cell_type": "code",
   "execution_count": 3,
   "metadata": {},
   "outputs": [
    {
     "name": "stdout",
     "output_type": "stream",
     "text": [
      "name: models/chat-bison-001\n",
      "description: A legacy text-only model optimized for chat conversations\n",
      "generation methods:['generateMessage', 'countMessageTokens']\n",
      "\n",
      "name: models/text-bison-001\n",
      "description: A legacy model that understands text and generates text as an output\n",
      "generation methods:['generateText', 'countTextTokens', 'createTunedTextModel']\n",
      "\n",
      "name: models/embedding-gecko-001\n",
      "description: Obtain a distributed representation of a text.\n",
      "generation methods:['embedText', 'countTextTokens']\n",
      "\n",
      "name: models/gemini-pro\n",
      "description: The best model for scaling across a wide range of tasks\n",
      "generation methods:['generateContent', 'countTokens']\n",
      "\n",
      "name: models/gemini-pro-vision\n",
      "description: The best image understanding model to handle a broad range of applications\n",
      "generation methods:['generateContent', 'countTokens']\n",
      "\n",
      "name: models/embedding-001\n",
      "description: Obtain a distributed representation of a text.\n",
      "generation methods:['embedContent', 'countTextTokens']\n",
      "\n",
      "name: models/aqa\n",
      "description: Model trained to return answers to questions that are grounded in provided sources, along with estimating answerable probability.\n",
      "generation methods:['generateAnswer']\n",
      "\n"
     ]
    }
   ],
   "source": [
    "for m in genai.list_models():\n",
    "    print(f\"name: {m.name}\")\n",
    "    print(f\"description: {m.description}\")\n",
    "    print(f\"generation methods:{m.supported_generation_methods}\\n\")"
   ]
  },
  {
   "cell_type": "code",
   "execution_count": 10,
   "metadata": {},
   "outputs": [
    {
     "data": {
      "text/plain": [
       " genai.GenerativeModel(\n",
       "   model_name='models/gemini-pro',\n",
       "   generation_config={}.\n",
       "   safety_settings={}\n",
       ")"
      ]
     },
     "execution_count": 10,
     "metadata": {},
     "output_type": "execute_result"
    }
   ],
   "source": [
    "model = genai.GenerativeModel('gemini-pro')\n",
    "model"
   ]
  },
  {
   "cell_type": "code",
   "execution_count": 19,
   "metadata": {},
   "outputs": [
    {
     "name": "stdout",
     "output_type": "stream",
     "text": [
      "The meaning of life is a deeply personal and philosophical question that has been pondered by individuals, cultures, and religions throughout history. There is no one definitive answer that is universally agreed upon, as the meaning of life can vary depending on individual beliefs, values, and experiences. Some common themes and perspectives on the meaning of life include:\n",
      "\n",
      "1. **Purpose and Fulfillment:** Many people find meaning in life by pursuing a sense of purpose and fulfillment. This can involve setting goals, achieving accomplishments, or engaging in activities that bring a sense of satisfaction and fulfillment. It may also involve contributing to something larger than oneself, such as a community or a cause.\n",
      "\n",
      "2. **Relationships and Connection:** For many people, a strong sense of meaning comes from relationships and connections with others. This can include family, friends, romantic partners, or even a broader community. Nurturing and maintaining these relationships and fostering a sense of belonging can be a significant source of meaning and purpose.\n",
      "\n",
      "3. **Values and Beliefs:** A person's values and beliefs can play a significant role in shaping their understanding of the meaning of life. For example, someone who values compassion and service to others may find meaning in a career or lifestyle that allows them to make a positive impact on the world. Someone who believes in spiritual or religious teachings may find meaning in their spiritual practice or connection to a higher power.\n",
      "\n",
      "4. **Growth and Learning:** Many people find meaning in the process of growth and learning. This can involve acquiring knowledge, developing new skills, or simply becoming more aware of oneself and the world around them. The pursuit of continuous learning and personal growth can provide a sense of purpose and accomplishment.\n",
      "\n",
      "5. **Experiencing and Appreciating Life:** Some people find meaning in simply experiencing and appreciating the beauty and wonder of life. This can involve taking time to enjoy nature, engaging in creative or artistic pursuits, or savoring moments of joy and connection. The ability to find beauty and gratitude in the everyday can bring a sense of meaning and fulfillment.\n",
      "\n",
      "6. **Legacy and Impact:** For some people, the meaning of life lies in leaving a lasting legacy or making a positive impact on the world. This can involve creating something that will endure beyond one's lifetime, whether it's a work of art, a scientific discovery, or a social or environmental contribution. The desire to make a difference and be remembered can be a powerful motivator for finding meaning in life.\n",
      "\n",
      "Ultimately, the meaning of life is a deeply personal and subjective matter, and what brings meaning to one person may not be the same for another. Finding meaning in life is often an ongoing journey, and it can evolve and change over time as individuals grow and change.\n"
     ]
    }
   ],
   "source": [
    "response = model.generate_content(\"What is the meaning of life?\")\n",
    "print(response.text)"
   ]
  },
  {
   "cell_type": "code",
   "execution_count": 20,
   "metadata": {},
   "outputs": [
    {
     "name": "stdout",
     "output_type": "stream",
     "text": [
      "The meaning of life is a question that has been pondered by philosophers, theologians, and scientists for centuries. There is no one definitive answer, as the meaning of life is subjective and personal. However, there are many different perspectives on the question that can be explored.\n",
      "\n",
      "Some people believe that the meaning of life is to find happiness and fulfillment. This can be achieved through a variety of means, such as pursuing one's passions, spending time with loved ones, or making a difference in the world. Others believe that the meaning of life is to learn and grow as a person. This can be done by challenging oneself, taking risks, and expanding one's knowledge and understanding of the world.\n",
      "\n",
      "Still others believe that the meaning of life is to serve others. This can be done through volunteering, donating to charity, or simply being kind and compassionate to those around us. Ultimately, the meaning of life is whatever each individual chooses to make it. There is no right or wrong answer, and the journey of discovering one's own meaning of life is a unique and personal experience.\n",
      "\n",
      "Here are some additional perspectives on the meaning of life:\n",
      "\n",
      "* Some people believe that the meaning of life is to connect with something greater than oneself. This could be a higher power, nature, or the universe.\n",
      "* Others believe that the meaning of life is to create something that will last beyond their own lifetime. This could be a work of art, a piece of music, a business, or a family.\n",
      "* Still others believe that the meaning of life is simply to experience it to the fullest. This means enjoying the good times, learning from the bad times, and embracing all that life has to offer.\n",
      "\n",
      "No matter what one's perspective on the meaning of life is, it is important to live life with purpose and intention. By doing so, one can create a life that is meaningful and fulfilling."
     ]
    }
   ],
   "source": [
    "response_stream = model.generate_content(\"What is the meaning of life?\", stream=True)\n",
    "for chunk in response_stream:\n",
    "  print(chunk.text, end=\"\")"
   ]
  },
  {
   "cell_type": "code",
   "execution_count": null,
   "metadata": {},
   "outputs": [],
   "source": []
  }
 ],
 "metadata": {
  "kernelspec": {
   "display_name": ".venv",
   "language": "python",
   "name": "python3"
  },
  "language_info": {
   "codemirror_mode": {
    "name": "ipython",
    "version": 3
   },
   "file_extension": ".py",
   "mimetype": "text/x-python",
   "name": "python",
   "nbconvert_exporter": "python",
   "pygments_lexer": "ipython3",
   "version": "3.11.6"
  }
 },
 "nbformat": 4,
 "nbformat_minor": 2
}
