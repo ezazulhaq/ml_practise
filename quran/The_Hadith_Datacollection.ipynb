{
 "cells": [
  {
   "cell_type": "code",
   "execution_count": 1,
   "metadata": {},
   "outputs": [],
   "source": [
    "import pandas as pd\n",
    "import psycopg2\n",
    "from datasets import load_dataset\n",
    "from psycopg2.extras import execute_batch\n",
    "from tqdm import tqdm"
   ]
  },
  {
   "cell_type": "code",
   "execution_count": 2,
   "metadata": {},
   "outputs": [
    {
     "data": {
      "text/plain": [
       "True"
      ]
     },
     "execution_count": 2,
     "metadata": {},
     "output_type": "execute_result"
    }
   ],
   "source": [
    "import os\n",
    "from dotenv import load_dotenv\n",
    "\n",
    "# Load environment variables from the .env file\n",
    "load_dotenv()"
   ]
  },
  {
   "cell_type": "code",
   "execution_count": 3,
   "metadata": {},
   "outputs": [],
   "source": [
    "def create_db_connection(db_host: str, db_name: str, db_user: str, db_password: str, db_port: str = \"5432\"):\n",
    "    \"\"\"Create and return database connection and cursor\"\"\"\n",
    "    conn = psycopg2.connect(\n",
    "        host=db_host,\n",
    "        database=db_name,\n",
    "        user=db_user,\n",
    "        password=db_password,\n",
    "        port=db_port\n",
    "    )\n",
    "    return conn, conn.cursor()"
   ]
  },
  {
   "cell_type": "code",
   "execution_count": 4,
   "metadata": {},
   "outputs": [],
   "source": [
    "# Database connection details\n",
    "db_host = os.getenv(\"SUPABASE_POSTGRES_HOST\")\n",
    "db_name = os.getenv(\"SUPABASE_POSTGRES_DATABASE\")\n",
    "db_user = os.getenv(\"SUPABASE_POSTGRES_USER\")\n",
    "db_password = os.getenv(\"SUPABASE_POSTGRES_PASSWORD\")"
   ]
  },
  {
   "cell_type": "code",
   "execution_count": 5,
   "metadata": {},
   "outputs": [],
   "source": [
    "def insert_source(cursor, source_name):\n",
    "    \"\"\"Insert a source and return its ID.\"\"\"\n",
    "    cursor.execute(\n",
    "        \"INSERT INTO sources (source_name) VALUES (%s) ON CONFLICT (source_name) DO UPDATE SET source_name = EXCLUDED.source_name RETURNING source_id\",\n",
    "        (source_name,)\n",
    "    )\n",
    "    return cursor.fetchone()[0]"
   ]
  },
  {
   "cell_type": "code",
   "execution_count": 6,
   "metadata": {},
   "outputs": [],
   "source": [
    "def insert_chapter(cursor, source_id, chapter_no, chapter_name):\n",
    "    \"\"\"Insert a chapter and return its ID.\"\"\"\n",
    "    cursor.execute(\n",
    "        \"\"\"\n",
    "        INSERT INTO chapters (source_id, chapter_no, chapter_name)\n",
    "        VALUES (%s, %s, %s)\n",
    "        ON CONFLICT (source_id, chapter_no) DO UPDATE \n",
    "        SET chapter_name = EXCLUDED.chapter_name\n",
    "        RETURNING chapter_id\n",
    "        \"\"\",\n",
    "        (source_id, chapter_no, chapter_name)\n",
    "    )\n",
    "    return cursor.fetchone()[0]"
   ]
  },
  {
   "cell_type": "code",
   "execution_count": 7,
   "metadata": {},
   "outputs": [],
   "source": [
    "def insert_chain(cursor, chain_index):\n",
    "    \"\"\"Insert a narration chain and return its ID.\"\"\"\n",
    "    # If chain_index is None or empty, use a default value\n",
    "    if not chain_index or str(chain_index).strip() == '':\n",
    "        chain_index = 'Unknown Chain'\n",
    "\n",
    "    cursor.execute(\n",
    "        \"\"\"\n",
    "        INSERT INTO narration_chains (chain_index)\n",
    "        VALUES (%s)\n",
    "        ON CONFLICT (chain_index) DO UPDATE \n",
    "        SET chain_index = EXCLUDED.chain_index\n",
    "        RETURNING chain_id\n",
    "        \"\"\",\n",
    "        (chain_index,)\n",
    "    )\n",
    "    return cursor.fetchone()[0]"
   ]
  },
  {
   "cell_type": "code",
   "execution_count": 8,
   "metadata": {},
   "outputs": [],
   "source": [
    "def clean_text(text):\n",
    "    \"\"\"Clean and validate text fields.\"\"\"\n",
    "    if not text or str(text).strip() == '':\n",
    "        return 'Text not available'\n",
    "    return str(text).strip()"
   ]
  },
  {
   "cell_type": "code",
   "execution_count": 9,
   "metadata": {},
   "outputs": [],
   "source": [
    "# Load the dataset\n",
    "dataset = load_dataset(\"M-AI-C/all_hadith\")\n",
    "df = pd.DataFrame(dataset[\"train\"])"
   ]
  },
  {
   "cell_type": "code",
   "execution_count": 10,
   "metadata": {},
   "outputs": [
    {
     "data": {
      "text/html": [
       "<div>\n",
       "<style scoped>\n",
       "    .dataframe tbody tr th:only-of-type {\n",
       "        vertical-align: middle;\n",
       "    }\n",
       "\n",
       "    .dataframe tbody tr th {\n",
       "        vertical-align: top;\n",
       "    }\n",
       "\n",
       "    .dataframe thead th {\n",
       "        text-align: right;\n",
       "    }\n",
       "</style>\n",
       "<table border=\"1\" class=\"dataframe\">\n",
       "  <thead>\n",
       "    <tr style=\"text-align: right;\">\n",
       "      <th></th>\n",
       "      <th>source</th>\n",
       "      <th>chapter_no</th>\n",
       "      <th>hadith_no</th>\n",
       "      <th>chapter</th>\n",
       "      <th>chain_indx</th>\n",
       "      <th>text_ar</th>\n",
       "      <th>text_en</th>\n",
       "    </tr>\n",
       "  </thead>\n",
       "  <tbody>\n",
       "    <tr>\n",
       "      <th>0</th>\n",
       "      <td>Sahih Bukhari</td>\n",
       "      <td>1</td>\n",
       "      <td>1</td>\n",
       "      <td>Revelation - كتاب بدء الوحى</td>\n",
       "      <td>30418, 20005, 11062, 11213, 11042, 3</td>\n",
       "      <td>حدثنا الحميدي عبد الله بن الزبير، قال حدثنا سف...</td>\n",
       "      <td>Narrated 'Umar bin Al-Khattab:          ...</td>\n",
       "    </tr>\n",
       "    <tr>\n",
       "      <th>1</th>\n",
       "      <td>Sahih Bukhari</td>\n",
       "      <td>1</td>\n",
       "      <td>2</td>\n",
       "      <td>Revelation - كتاب بدء الوحى</td>\n",
       "      <td>30355, 20001, 11065, 10511, 53</td>\n",
       "      <td>حدثنا عبد الله بن يوسف، قال أخبرنا مالك، عن هش...</td>\n",
       "      <td>Narrated 'Aisha:                        ...</td>\n",
       "    </tr>\n",
       "    <tr>\n",
       "      <th>2</th>\n",
       "      <td>Sahih Bukhari</td>\n",
       "      <td>1</td>\n",
       "      <td>3</td>\n",
       "      <td>Revelation - كتاب بدء الوحى</td>\n",
       "      <td>30399, 20023, 11207, 11013, 10511, 53</td>\n",
       "      <td>حدثنا يحيى بن بكير، قال حدثنا الليث، عن عقيل، ...</td>\n",
       "      <td>Narrated 'Aisha:                       (the m...</td>\n",
       "    </tr>\n",
       "    <tr>\n",
       "      <th>3</th>\n",
       "      <td>Sahih Bukhari</td>\n",
       "      <td>1</td>\n",
       "      <td>4</td>\n",
       "      <td>Revelation - كتاب بدء الوحى</td>\n",
       "      <td>11013, 10567, 34</td>\n",
       "      <td>قال ابن شهاب وأخبرني أبو سلمة بن عبد الرحمن، أ...</td>\n",
       "      <td>Narrated Jabir bin 'Abdullah Al-Ansari while ...</td>\n",
       "    </tr>\n",
       "    <tr>\n",
       "      <th>4</th>\n",
       "      <td>Sahih Bukhari</td>\n",
       "      <td>1</td>\n",
       "      <td>5</td>\n",
       "      <td>Revelation - كتاب بدء الوحى</td>\n",
       "      <td>20040, 20469, 11399, 11050, 17</td>\n",
       "      <td>حدثنا موسى بن إسماعيل، قال حدثنا أبو عوانة، قا...</td>\n",
       "      <td>Narrated Said bin Jubair:               ...</td>\n",
       "    </tr>\n",
       "  </tbody>\n",
       "</table>\n",
       "</div>"
      ],
      "text/plain": [
       "            source  chapter_no hadith_no                      chapter  \\\n",
       "0   Sahih Bukhari            1        1   Revelation - كتاب بدء الوحى   \n",
       "1   Sahih Bukhari            1        2   Revelation - كتاب بدء الوحى   \n",
       "2   Sahih Bukhari            1        3   Revelation - كتاب بدء الوحى   \n",
       "3   Sahih Bukhari            1        4   Revelation - كتاب بدء الوحى   \n",
       "4   Sahih Bukhari            1        5   Revelation - كتاب بدء الوحى   \n",
       "\n",
       "                              chain_indx  \\\n",
       "0   30418, 20005, 11062, 11213, 11042, 3   \n",
       "1         30355, 20001, 11065, 10511, 53   \n",
       "2  30399, 20023, 11207, 11013, 10511, 53   \n",
       "3                       11013, 10567, 34   \n",
       "4         20040, 20469, 11399, 11050, 17   \n",
       "\n",
       "                                             text_ar  \\\n",
       "0  حدثنا الحميدي عبد الله بن الزبير، قال حدثنا سف...   \n",
       "1  حدثنا عبد الله بن يوسف، قال أخبرنا مالك، عن هش...   \n",
       "2  حدثنا يحيى بن بكير، قال حدثنا الليث، عن عقيل، ...   \n",
       "3  قال ابن شهاب وأخبرني أبو سلمة بن عبد الرحمن، أ...   \n",
       "4  حدثنا موسى بن إسماعيل، قال حدثنا أبو عوانة، قا...   \n",
       "\n",
       "                                             text_en  \n",
       "0        Narrated 'Umar bin Al-Khattab:          ...  \n",
       "1        Narrated 'Aisha:                        ...  \n",
       "2   Narrated 'Aisha:                       (the m...  \n",
       "3   Narrated Jabir bin 'Abdullah Al-Ansari while ...  \n",
       "4        Narrated Said bin Jubair:               ...  "
      ]
     },
     "execution_count": 10,
     "metadata": {},
     "output_type": "execute_result"
    }
   ],
   "source": [
    "df.head()"
   ]
  },
  {
   "cell_type": "code",
   "execution_count": 11,
   "metadata": {},
   "outputs": [
    {
     "data": {
      "text/plain": [
       "Index(['source', 'chapter_no', 'hadith_no', 'chapter', 'chain_indx', 'text_ar',\n",
       "       'text_en'],\n",
       "      dtype='object')"
      ]
     },
     "execution_count": 11,
     "metadata": {},
     "output_type": "execute_result"
    }
   ],
   "source": [
    "df.columns"
   ]
  },
  {
   "cell_type": "code",
   "execution_count": 12,
   "metadata": {},
   "outputs": [
    {
     "name": "stdout",
     "output_type": "stream",
     "text": [
      "Processing dataset and inserting into database...\n"
     ]
    },
    {
     "name": "stderr",
     "output_type": "stream",
     "text": [
      "100%|██████████| 34441/34441 [15:14<00:00, 37.65it/s] \n"
     ]
    },
    {
     "name": "stdout",
     "output_type": "stream",
     "text": [
      "Data import completed successfully!\n"
     ]
    }
   ],
   "source": [
    "# Create database connection\n",
    "conn, cursor = create_db_connection(db_host, db_name, db_user, db_password)\n",
    "\n",
    "try:\n",
    "    # Process each row in the dataset\n",
    "    print(\"Processing dataset and inserting into database...\")\n",
    "\n",
    "    # Prepare data structures to cache IDs\n",
    "    source_ids = {}\n",
    "    chapter_ids = {}\n",
    "    chain_ids = {}\n",
    "\n",
    "    # Prepare batch inserts for hadiths\n",
    "    hadith_data = []\n",
    "\n",
    "    # Get the dataset size for the progress bar\n",
    "    total_rows = len(dataset['train'])\n",
    "\n",
    "    for row in tqdm(dataset['train'], total=total_rows):\n",
    "        try:\n",
    "            # Get or create source ID\n",
    "            source_name = row.get('source', 'Unknown Source')\n",
    "            if source_name not in source_ids:\n",
    "                source_ids[source_name] = insert_source(\n",
    "                    cursor, source_name)\n",
    "            source_id = source_ids[source_name]\n",
    "\n",
    "            # Get or create chapter ID\n",
    "            chapter_no = row.get('chapter_no', 0)\n",
    "            if not isinstance(chapter_no, (int, float)):\n",
    "                chapter_no = 0\n",
    "\n",
    "            chapter_key = (source_id, chapter_no)\n",
    "            if chapter_key not in chapter_ids:\n",
    "                chapter_ids[chapter_key] = insert_chapter(\n",
    "                    cursor,\n",
    "                    source_id,\n",
    "                    chapter_no,\n",
    "                    row.get('chapter', f'Chapter {chapter_no}')\n",
    "                )\n",
    "            chapter_id = chapter_ids[chapter_key]\n",
    "\n",
    "            # Get or create chain ID\n",
    "            chain_index = row.get('chain_indx', 'Unknown Chain')\n",
    "            chain_key = str(\n",
    "                chain_index) if chain_index else 'Unknown Chain'\n",
    "            if chain_key not in chain_ids:\n",
    "                chain_ids[chain_key] = insert_chain(cursor, chain_key)\n",
    "            chain_id = chain_ids[chain_key]\n",
    "\n",
    "            # Clean and prepare hadith texts\n",
    "            text_ar = clean_text(row.get('text_ar', ''))\n",
    "            text_en = clean_text(row.get('text_en', ''))\n",
    "\n",
    "            # Get hadith number, default to 0 if not present\n",
    "            hadith_no = row.get('hadith_no', 0)\n",
    "            if not isinstance(hadith_no, (int, float)):\n",
    "                hadith_no = 0\n",
    "\n",
    "            # Prepare hadith data for batch insert\n",
    "            hadith_data.append((\n",
    "                chapter_id,\n",
    "                chain_id,\n",
    "                hadith_no,\n",
    "                text_ar,\n",
    "                text_en\n",
    "            ))\n",
    "\n",
    "            # Batch insert every 1000 records\n",
    "            if len(hadith_data) >= 1000:\n",
    "                execute_batch(\n",
    "                    cursor,\n",
    "                    \"\"\"\n",
    "                    INSERT INTO hadiths (chapter_id, chain_id, hadith_no, text_ar, text_en)\n",
    "                    VALUES (%s, %s, %s, %s, %s)\n",
    "                    ON CONFLICT (chapter_id, hadith_no) DO UPDATE\n",
    "                    SET chain_id = EXCLUDED.chain_id,\n",
    "                        text_ar = EXCLUDED.text_ar,\n",
    "                        text_en = EXCLUDED.text_en\n",
    "                    \"\"\",\n",
    "                    hadith_data\n",
    "                )\n",
    "                hadith_data = []\n",
    "                conn.commit()\n",
    "\n",
    "        except Exception as e:\n",
    "            print(f\"Error processing row: {row}\")\n",
    "            print(f\"Error details: {str(e)}\")\n",
    "            continue\n",
    "\n",
    "    # Insert any remaining hadiths\n",
    "    if hadith_data:\n",
    "        execute_batch(\n",
    "            cursor,\n",
    "            \"\"\"\n",
    "            INSERT INTO hadiths (chapter_id, chain_id, hadith_no, text_ar, text_en)\n",
    "            VALUES (%s, %s, %s, %s, %s)\n",
    "            ON CONFLICT (chapter_id, hadith_no) DO UPDATE\n",
    "            SET chain_id = EXCLUDED.chain_id,\n",
    "                text_ar = EXCLUDED.text_ar,\n",
    "                text_en = EXCLUDED.text_en\n",
    "            \"\"\",\n",
    "            hadith_data\n",
    "        )\n",
    "        conn.commit()\n",
    "\n",
    "    print(\"Data import completed successfully!\")\n",
    "\n",
    "except Exception as e:\n",
    "    conn.rollback()\n",
    "    print(f\"An error occurred: {str(e)}\")\n",
    "    raise\n",
    "\n",
    "finally:\n",
    "    cursor.close()\n",
    "    conn.close()"
   ]
  }
 ],
 "metadata": {
  "kernelspec": {
   "display_name": ".venv",
   "language": "python",
   "name": "python3"
  },
  "language_info": {
   "codemirror_mode": {
    "name": "ipython",
    "version": 3
   },
   "file_extension": ".py",
   "mimetype": "text/x-python",
   "name": "python",
   "nbconvert_exporter": "python",
   "pygments_lexer": "ipython3",
   "version": "3.11.6"
  }
 },
 "nbformat": 4,
 "nbformat_minor": 2
}
