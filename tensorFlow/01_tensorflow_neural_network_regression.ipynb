{
 "cells": [
  {
   "cell_type": "markdown",
   "metadata": {},
   "source": [
    "# Introduction to Regression with Neural Networks in Tensorflow\n",
    "\n",
    "There are many definitions for regression problems but in out case, we are going to simplify it: predicting a numerical variable based on some other combination of variables, even shorter... predicting a number"
   ]
  },
  {
   "cell_type": "code",
   "execution_count": 1,
   "metadata": {},
   "outputs": [
    {
     "name": "stderr",
     "output_type": "stream",
     "text": [
      "2024-01-24 10:56:16.973396: I external/local_tsl/tsl/cuda/cudart_stub.cc:31] Could not find cuda drivers on your machine, GPU will not be used.\n",
      "2024-01-24 10:56:19.273729: E external/local_xla/xla/stream_executor/cuda/cuda_dnn.cc:9261] Unable to register cuDNN factory: Attempting to register factory for plugin cuDNN when one has already been registered\n",
      "2024-01-24 10:56:19.273892: E external/local_xla/xla/stream_executor/cuda/cuda_fft.cc:607] Unable to register cuFFT factory: Attempting to register factory for plugin cuFFT when one has already been registered\n",
      "2024-01-24 10:56:19.581233: E external/local_xla/xla/stream_executor/cuda/cuda_blas.cc:1515] Unable to register cuBLAS factory: Attempting to register factory for plugin cuBLAS when one has already been registered\n",
      "2024-01-24 10:56:20.321609: I external/local_tsl/tsl/cuda/cudart_stub.cc:31] Could not find cuda drivers on your machine, GPU will not be used.\n",
      "2024-01-24 10:56:20.323079: I tensorflow/core/platform/cpu_feature_guard.cc:182] This TensorFlow binary is optimized to use available CPU instructions in performance-critical operations.\n",
      "To enable the following instructions: AVX2 FMA, in other operations, rebuild TensorFlow with the appropriate compiler flags.\n",
      "2024-01-24 10:56:23.482154: W tensorflow/compiler/tf2tensorrt/utils/py_utils.cc:38] TF-TRT Warning: Could not find TensorRT\n"
     ]
    },
    {
     "data": {
      "text/plain": [
       "'2.15.0'"
      ]
     },
     "execution_count": 1,
     "metadata": {},
     "output_type": "execute_result"
    }
   ],
   "source": [
    "# Import tensorflow\n",
    "import tensorflow as tf\n",
    "\n",
    "tf.__version__"
   ]
  },
  {
   "cell_type": "markdown",
   "metadata": {},
   "source": [
    "### Creating some data to view and fit"
   ]
  },
  {
   "cell_type": "code",
   "execution_count": 3,
   "metadata": {},
   "outputs": [
    {
     "data": {
      "text/plain": [
       "<matplotlib.collections.PathCollection at 0x7fa112fa23b0>"
      ]
     },
     "execution_count": 3,
     "metadata": {},
     "output_type": "execute_result"
    },
    {
     "data": {
      "image/png": "[encoded data removed]",
      "text/plain": [
       "<Figure size 640x480 with 1 Axes>"
      ]
     },
     "metadata": {},
     "output_type": "display_data"
    }
   ],
   "source": [
    "import numpy as np\n",
    "import matplotlib.pyplot as plt\n",
    "\n",
    "# Create features\n",
    "X = np.array([-7.0, -4.0, -1.0, 2.0, 5.0, 8.0, 11.0, 14])\n",
    "\n",
    "# Create labels\n",
    "y = np.array([3.0, 6.0, 9.0, 12.0, 15.0, 18.0, 21.0, 24.0])\n",
    "\n",
    "# Visualise it\n",
    "plt.scatter(X,y)"
   ]
  },
  {
   "cell_type": "code",
   "execution_count": 7,
   "metadata": {},
   "outputs": [
    {
     "data": {
      "text/plain": [
       "array([ True,  True,  True,  True,  True,  True,  True,  True])"
      ]
     },
     "execution_count": 7,
     "metadata": {},
     "output_type": "execute_result"
    }
   ],
   "source": [
    "y == X + 10"
   ]
  },
  {
   "cell_type": "markdown",
   "metadata": {},
   "source": [
    "### Input and output shapes"
   ]
  },
  {
   "cell_type": "code",
   "execution_count": 8,
   "metadata": {},
   "outputs": [
    {
     "data": {
      "text/plain": [
       "(<tf.Tensor: shape=(3,), dtype=string, numpy=array([b'bedroom', b'bathroom', b'garage'], dtype=object)>,\n",
       " <tf.Tensor: shape=(1,), dtype=int32, numpy=array([939700], dtype=int32)>)"
      ]
     },
     "execution_count": 8,
     "metadata": {},
     "output_type": "execute_result"
    }
   ],
   "source": [
    "# Create a demo tensor for our housing price predection problem\n",
    "house_info = tf.constant([\"bedroom\", \"bathroom\", \"garage\"])\n",
    "house_price = tf.constant([939700])\n",
    "\n",
    "house_info, house_price"
   ]
  },
  {
   "cell_type": "code",
   "execution_count": 10,
   "metadata": {},
   "outputs": [
    {
     "data": {
      "text/plain": [
       "(-7.0, 3.0)"
      ]
     },
     "execution_count": 10,
     "metadata": {},
     "output_type": "execute_result"
    }
   ],
   "source": [
    "X[0], y[0]"
   ]
  },
  {
   "cell_type": "code",
   "execution_count": 11,
   "metadata": {},
   "outputs": [
    {
     "data": {
      "text/plain": [
       "(-4.0, 6.0)"
      ]
     },
     "execution_count": 11,
     "metadata": {},
     "output_type": "execute_result"
    }
   ],
   "source": [
    "X[1], y[1]"
   ]
  },
  {
   "cell_type": "code",
   "execution_count": 12,
   "metadata": {},
   "outputs": [
    {
     "data": {
      "text/plain": [
       "((), ())"
      ]
     },
     "execution_count": 12,
     "metadata": {},
     "output_type": "execute_result"
    }
   ],
   "source": [
    "input_shape = X[0].shape\n",
    "output_shape = y[0].shape\n",
    "input_shape, output_shape"
   ]
  },
  {
   "cell_type": "code",
   "execution_count": 15,
   "metadata": {},
   "outputs": [
    {
     "data": {
      "text/plain": [
       "0"
      ]
     },
     "execution_count": 15,
     "metadata": {},
     "output_type": "execute_result"
    }
   ],
   "source": [
    "X[0].ndim"
   ]
  },
  {
   "cell_type": "code",
   "execution_count": 4,
   "metadata": {},
   "outputs": [
    {
     "data": {
      "text/plain": [
       "(<tf.Tensor: shape=(8,), dtype=float32, numpy=array([-7., -4., -1.,  2.,  5.,  8., 11., 14.], dtype=float32)>,\n",
       " <tf.Tensor: shape=(8,), dtype=float32, numpy=array([ 3.,  6.,  9., 12., 15., 18., 21., 24.], dtype=float32)>)"
      ]
     },
     "execution_count": 4,
     "metadata": {},
     "output_type": "execute_result"
    }
   ],
   "source": [
    "# Turn our NumPy arrays into tensors with dtype tf.float32\n",
    "X = tf.cast(tf.constant(X), tf.float32)\n",
    "y = tf.cast(tf.constant(y), tf.float32)\n",
    "X, y"
   ]
  },
  {
   "cell_type": "code",
   "execution_count": 17,
   "metadata": {},
   "outputs": [
    {
     "data": {
      "text/plain": [
       "(TensorShape([]), TensorShape([]))"
      ]
     },
     "execution_count": 17,
     "metadata": {},
     "output_type": "execute_result"
    }
   ],
   "source": [
    "input_shape = X[0].shape\n",
    "output_shape = y[0].shape\n",
    "input_shape, output_shape"
   ]
  },
  {
   "cell_type": "code",
   "execution_count": 18,
   "metadata": {},
   "outputs": [
    {
     "data": {
      "text/plain": [
       "<matplotlib.collections.PathCollection at 0x7f5018256020>"
      ]
     },
     "execution_count": 18,
     "metadata": {},
     "output_type": "execute_result"
    },
    {
     "data": {
      "image/png": "[encoded data removed]",
      "text/plain": [
       "<Figure size 640x480 with 1 Axes>"
      ]
     },
     "metadata": {},
     "output_type": "display_data"
    }
   ],
   "source": [
    "plt.scatter(X, y)"
   ]
  },
  {
   "cell_type": "markdown",
   "metadata": {},
   "source": [
    "## Steps in modelling with TensorFlow\n",
    "\n",
    "1. **Creating a Model** - define input and output layers, as well as hidden layers in deep learning model.\n",
    "2. **Compile a Model** - define loss function (in other words, the which tells  our model  how wrong it is) and the Optimizer (tell us how to improve patterns its learning) and Evaluation Matrix (what we can use to interpret performance of a model).\n",
    "3. **Fitting a Model** - letting model try to find patterns between X and y (features and labels)."
   ]
  },
  {
   "cell_type": "code",
   "execution_count": 25,
   "metadata": {},
   "outputs": [
    {
     "name": "stdout",
     "output_type": "stream",
     "text": [
      "Epoch 1/5\n",
      "1/1 [==============================] - 0s 202ms/step - loss: 16.1011 - mae: 16.1011\n",
      "Epoch 2/5\n",
      "1/1 [==============================] - 0s 4ms/step - loss: 15.8198 - mae: 15.8198\n",
      "Epoch 3/5\n",
      "1/1 [==============================] - 0s 4ms/step - loss: 15.5386 - mae: 15.5386\n",
      "Epoch 4/5\n",
      "1/1 [==============================] - 0s 4ms/step - loss: 15.2573 - mae: 15.2573\n",
      "Epoch 5/5\n",
      "1/1 [==============================] - 0s 4ms/step - loss: 14.9761 - mae: 14.9761\n"
     ]
    },
    {
     "data": {
      "text/plain": [
       "<keras.src.callbacks.History at 0x7fd02e7c8c70>"
      ]
     },
     "execution_count": 25,
     "metadata": {},
     "output_type": "execute_result"
    }
   ],
   "source": [
    "# Set random seed\n",
    "tf.random.set_seed(42)\n",
    "\n",
    "# 1. Create a model using Sequencial API\n",
    "model = tf.keras.Sequential()\n",
    "model.add(tf.keras.layers.Dense(1))    # input one number and predict one number\n",
    "\n",
    "# 2. Compile the model\n",
    "model.compile(loss=tf.keras.losses.mae,                 # mea is Mean Absolute Error\n",
    "              optimizer=tf.keras.optimizers.SGD(),      # SGD is Stochastic Gradient Descent\n",
    "              metrics=[\"mae\"]\n",
    "              )\n",
    "\n",
    "# Fit the model\n",
    "model.fit(tf.expand_dims(X,axis=-1), y, epochs=5)"
   ]
  },
  {
   "cell_type": "code",
   "execution_count": 11,
   "metadata": {},
   "outputs": [
    {
     "data": {
      "text/plain": [
       "(<tf.Tensor: shape=(8,), dtype=float32, numpy=array([-7., -4., -1.,  2.,  5.,  8., 11., 14.], dtype=float32)>,\n",
       " <tf.Tensor: shape=(8,), dtype=float32, numpy=array([ 3.,  6.,  9., 12., 15., 18., 21., 24.], dtype=float32)>)"
      ]
     },
     "execution_count": 11,
     "metadata": {},
     "output_type": "execute_result"
    }
   ],
   "source": [
    "# Check X and y\n",
    "X, y"
   ]
  },
  {
   "cell_type": "code",
   "execution_count": 28,
   "metadata": {},
   "outputs": [
    {
     "name": "stdout",
     "output_type": "stream",
     "text": [
      "1/1 [==============================] - 0s 40ms/step\n"
     ]
    },
    {
     "data": {
      "text/plain": [
       "array([[-6.351147]], dtype=float32)"
      ]
     },
     "execution_count": 28,
     "metadata": {},
     "output_type": "execute_result"
    }
   ],
   "source": [
    "# Try and make prediction using  our model\n",
    "y_pred = model.predict([17])\n",
    "y_pred"
   ]
  },
  {
   "cell_type": "code",
   "execution_count": 29,
   "metadata": {},
   "outputs": [
    {
     "data": {
      "text/plain": [
       "array([[8.624952]], dtype=float32)"
      ]
     },
     "execution_count": 29,
     "metadata": {},
     "output_type": "execute_result"
    }
   ],
   "source": [
    "y_pred + 14.9761    # Not a valid prediction"
   ]
  },
  {
   "cell_type": "markdown",
   "metadata": {},
   "source": [
    "### Improving our model\n",
    "\n",
    "We can improve the model my alerting the steps we took to create a model\n",
    "\n",
    "1. **Create a Model** - here we might add more layers, increase the number of hidden units (neurons) within each of the hidden layers, change the activation function of each layer.\n",
    "2. **Compiling a Model** - here we might change the optimization function or perhaps the **learning rate** for said optimization function.\n",
    "3. **Fit a Model** - here we might fit a model for more **epochs** (leave it training for longer) or on more data (give the model more example to learn from)."
   ]
  },
  {
   "cell_type": "code",
   "execution_count": 24,
   "metadata": {},
   "outputs": [
    {
     "name": "stdout",
     "output_type": "stream",
     "text": [
      "Epoch 1/100\n",
      "1/1 [==============================] - 0s 193ms/step - loss: 11.4580 - mae: 11.4580\n",
      "Epoch 2/100\n",
      "1/1 [==============================] - 0s 4ms/step - loss: 11.3255 - mae: 11.3255\n",
      "Epoch 3/100\n",
      "1/1 [==============================] - 0s 4ms/step - loss: 11.1930 - mae: 11.1930\n",
      "Epoch 4/100\n",
      "1/1 [==============================] - 0s 4ms/step - loss: 11.0605 - mae: 11.0605\n",
      "Epoch 5/100\n",
      "1/1 [==============================] - 0s 5ms/step - loss: 10.9280 - mae: 10.9280\n",
      "Epoch 6/100\n",
      "1/1 [==============================] - 0s 4ms/step - loss: 10.7955 - mae: 10.7955\n",
      "Epoch 7/100\n",
      "1/1 [==============================] - 0s 5ms/step - loss: 10.6630 - mae: 10.6630\n",
      "Epoch 8/100\n",
      "1/1 [==============================] - 0s 4ms/step - loss: 10.5305 - mae: 10.5305\n",
      "Epoch 9/100\n",
      "1/1 [==============================] - 0s 4ms/step - loss: 10.3980 - mae: 10.3980\n",
      "Epoch 10/100\n",
      "1/1 [==============================] - 0s 4ms/step - loss: 10.2655 - mae: 10.2655\n",
      "Epoch 11/100\n",
      "1/1 [==============================] - 0s 4ms/step - loss: 10.1330 - mae: 10.1330\n",
      "Epoch 12/100\n",
      "1/1 [==============================] - 0s 4ms/step - loss: 10.0005 - mae: 10.0005\n",
      "Epoch 13/100\n",
      "1/1 [==============================] - 0s 5ms/step - loss: 9.8680 - mae: 9.8680\n",
      "Epoch 14/100\n",
      "1/1 [==============================] - 0s 4ms/step - loss: 9.7355 - mae: 9.7355\n",
      "Epoch 15/100\n",
      "1/1 [==============================] - 0s 4ms/step - loss: 9.6030 - mae: 9.6030\n",
      "Epoch 16/100\n",
      "1/1 [==============================] - 0s 5ms/step - loss: 9.4705 - mae: 9.4705\n",
      "Epoch 17/100\n",
      "1/1 [==============================] - 0s 6ms/step - loss: 9.3380 - mae: 9.3380\n",
      "Epoch 18/100\n",
      "1/1 [==============================] - 0s 5ms/step - loss: 9.2055 - mae: 9.2055\n",
      "Epoch 19/100\n",
      "1/1 [==============================] - 0s 9ms/step - loss: 9.0730 - mae: 9.0730\n",
      "Epoch 20/100\n",
      "1/1 [==============================] - 0s 7ms/step - loss: 8.9405 - mae: 8.9405\n",
      "Epoch 21/100\n",
      "1/1 [==============================] - 0s 9ms/step - loss: 8.8080 - mae: 8.8080\n",
      "Epoch 22/100\n",
      "1/1 [==============================] - 0s 9ms/step - loss: 8.6755 - mae: 8.6755\n",
      "Epoch 23/100\n",
      "1/1 [==============================] - 0s 5ms/step - loss: 8.5430 - mae: 8.5430\n",
      "Epoch 24/100\n",
      "1/1 [==============================] - 0s 4ms/step - loss: 8.4105 - mae: 8.4105\n",
      "Epoch 25/100\n",
      "1/1 [==============================] - 0s 5ms/step - loss: 8.2780 - mae: 8.2780\n",
      "Epoch 26/100\n",
      "1/1 [==============================] - 0s 7ms/step - loss: 8.1455 - mae: 8.1455\n",
      "Epoch 27/100\n",
      "1/1 [==============================] - 0s 4ms/step - loss: 8.0130 - mae: 8.0130\n",
      "Epoch 28/100\n",
      "1/1 [==============================] - 0s 5ms/step - loss: 7.8805 - mae: 7.8805\n",
      "Epoch 29/100\n",
      "1/1 [==============================] - 0s 6ms/step - loss: 7.7480 - mae: 7.7480\n",
      "Epoch 30/100\n",
      "1/1 [==============================] - 0s 10ms/step - loss: 7.6155 - mae: 7.6155\n",
      "Epoch 31/100\n",
      "1/1 [==============================] - 0s 10ms/step - loss: 7.4830 - mae: 7.4830\n",
      "Epoch 32/100\n",
      "1/1 [==============================] - 0s 4ms/step - loss: 7.3505 - mae: 7.3505\n",
      "Epoch 33/100\n",
      "1/1 [==============================] - 0s 8ms/step - loss: 7.2600 - mae: 7.2600\n",
      "Epoch 34/100\n",
      "1/1 [==============================] - 0s 5ms/step - loss: 7.2544 - mae: 7.2544\n",
      "Epoch 35/100\n",
      "1/1 [==============================] - 0s 5ms/step - loss: 7.2488 - mae: 7.2488\n",
      "Epoch 36/100\n",
      "1/1 [==============================] - 0s 5ms/step - loss: 7.2431 - mae: 7.2431\n",
      "Epoch 37/100\n",
      "1/1 [==============================] - 0s 5ms/step - loss: 7.2375 - mae: 7.2375\n",
      "Epoch 38/100\n",
      "1/1 [==============================] - 0s 9ms/step - loss: 7.2319 - mae: 7.2319\n",
      "Epoch 39/100\n",
      "1/1 [==============================] - ETA: 0s - loss: 7.2263 - mae: 7.2263"
     ]
    },
    {
     "name": "stdout",
     "output_type": "stream",
     "text": [
      "1/1 [==============================] - 0s 7ms/step - loss: 7.2263 - mae: 7.2263\n",
      "Epoch 40/100\n",
      "1/1 [==============================] - 0s 8ms/step - loss: 7.2206 - mae: 7.2206\n",
      "Epoch 41/100\n",
      "1/1 [==============================] - 0s 15ms/step - loss: 7.2150 - mae: 7.2150\n",
      "Epoch 42/100\n",
      "1/1 [==============================] - 0s 9ms/step - loss: 7.2094 - mae: 7.2094\n",
      "Epoch 43/100\n",
      "1/1 [==============================] - 0s 9ms/step - loss: 7.2038 - mae: 7.2038\n",
      "Epoch 44/100\n",
      "1/1 [==============================] - 0s 5ms/step - loss: 7.1981 - mae: 7.1981\n",
      "Epoch 45/100\n",
      "1/1 [==============================] - 0s 5ms/step - loss: 7.1925 - mae: 7.1925\n",
      "Epoch 46/100\n",
      "1/1 [==============================] - 0s 5ms/step - loss: 7.1869 - mae: 7.1869\n",
      "Epoch 47/100\n",
      "1/1 [==============================] - 0s 5ms/step - loss: 7.1813 - mae: 7.1813\n",
      "Epoch 48/100\n",
      "1/1 [==============================] - 0s 5ms/step - loss: 7.1756 - mae: 7.1756\n",
      "Epoch 49/100\n",
      "1/1 [==============================] - 0s 5ms/step - loss: 7.1700 - mae: 7.1700\n",
      "Epoch 50/100\n",
      "1/1 [==============================] - 0s 5ms/step - loss: 7.1644 - mae: 7.1644\n",
      "Epoch 51/100\n",
      "1/1 [==============================] - 0s 8ms/step - loss: 7.1588 - mae: 7.1588\n",
      "Epoch 52/100\n",
      "1/1 [==============================] - 0s 4ms/step - loss: 7.1531 - mae: 7.1531\n",
      "Epoch 53/100\n",
      "1/1 [==============================] - 0s 4ms/step - loss: 7.1475 - mae: 7.1475\n",
      "Epoch 54/100\n",
      "1/1 [==============================] - 0s 4ms/step - loss: 7.1419 - mae: 7.1419\n",
      "Epoch 55/100\n",
      "1/1 [==============================] - 0s 4ms/step - loss: 7.1363 - mae: 7.1363\n",
      "Epoch 56/100\n",
      "1/1 [==============================] - 0s 4ms/step - loss: 7.1306 - mae: 7.1306\n",
      "Epoch 57/100\n",
      "1/1 [==============================] - 0s 4ms/step - loss: 7.1250 - mae: 7.1250\n",
      "Epoch 58/100\n",
      "1/1 [==============================] - 0s 4ms/step - loss: 7.1194 - mae: 7.1194\n",
      "Epoch 59/100\n",
      "1/1 [==============================] - 0s 4ms/step - loss: 7.1138 - mae: 7.1138\n",
      "Epoch 60/100\n",
      "1/1 [==============================] - 0s 4ms/step - loss: 7.1081 - mae: 7.1081\n",
      "Epoch 61/100\n",
      "1/1 [==============================] - 0s 7ms/step - loss: 7.1025 - mae: 7.1025\n",
      "Epoch 62/100\n",
      "1/1 [==============================] - 0s 5ms/step - loss: 7.0969 - mae: 7.0969\n",
      "Epoch 63/100\n",
      "1/1 [==============================] - 0s 7ms/step - loss: 7.0913 - mae: 7.0913\n",
      "Epoch 64/100\n",
      "1/1 [==============================] - 0s 5ms/step - loss: 7.0856 - mae: 7.0856\n",
      "Epoch 65/100\n",
      "1/1 [==============================] - 0s 6ms/step - loss: 7.0800 - mae: 7.0800\n",
      "Epoch 66/100\n",
      "1/1 [==============================] - 0s 4ms/step - loss: 7.0744 - mae: 7.0744\n",
      "Epoch 67/100\n",
      "1/1 [==============================] - 0s 4ms/step - loss: 7.0688 - mae: 7.0688\n",
      "Epoch 68/100\n",
      "1/1 [==============================] - 0s 4ms/step - loss: 7.0631 - mae: 7.0631\n",
      "Epoch 69/100\n",
      "1/1 [==============================] - 0s 5ms/step - loss: 7.0575 - mae: 7.0575\n",
      "Epoch 70/100\n",
      "1/1 [==============================] - 0s 5ms/step - loss: 7.0519 - mae: 7.0519\n",
      "Epoch 71/100\n",
      "1/1 [==============================] - 0s 4ms/step - loss: 7.0463 - mae: 7.0463\n",
      "Epoch 72/100\n",
      "1/1 [==============================] - 0s 4ms/step - loss: 7.0406 - mae: 7.0406\n",
      "Epoch 73/100\n",
      "1/1 [==============================] - 0s 4ms/step - loss: 7.0350 - mae: 7.0350\n",
      "Epoch 74/100\n",
      "1/1 [==============================] - 0s 4ms/step - loss: 7.0294 - mae: 7.0294\n",
      "Epoch 75/100\n",
      "1/1 [==============================] - 0s 4ms/step - loss: 7.0238 - mae: 7.0238\n",
      "Epoch 76/100\n",
      "1/1 [==============================] - 0s 4ms/step - loss: 7.0181 - mae: 7.0181\n",
      "Epoch 77/100\n",
      "1/1 [==============================] - 0s 4ms/step - loss: 7.0125 - mae: 7.0125\n",
      "Epoch 78/100\n",
      "1/1 [==============================] - 0s 4ms/step - loss: 7.0069 - mae: 7.0069\n",
      "Epoch 79/100\n",
      "1/1 [==============================] - 0s 4ms/step - loss: 7.0013 - mae: 7.0013\n",
      "Epoch 80/100\n",
      "1/1 [==============================] - 0s 7ms/step - loss: 6.9956 - mae: 6.9956\n",
      "Epoch 81/100\n",
      "1/1 [==============================] - 0s 5ms/step - loss: 6.9900 - mae: 6.9900\n",
      "Epoch 82/100\n",
      "1/1 [==============================] - 0s 4ms/step - loss: 6.9844 - mae: 6.9844\n",
      "Epoch 83/100\n",
      "1/1 [==============================] - 0s 4ms/step - loss: 6.9788 - mae: 6.9788\n",
      "Epoch 84/100\n",
      "1/1 [==============================] - 0s 4ms/step - loss: 6.9731 - mae: 6.9731\n",
      "Epoch 85/100\n",
      "1/1 [==============================] - 0s 4ms/step - loss: 6.9675 - mae: 6.9675\n",
      "Epoch 86/100\n",
      "1/1 [==============================] - 0s 4ms/step - loss: 6.9619 - mae: 6.9619\n",
      "Epoch 87/100\n",
      "1/1 [==============================] - 0s 4ms/step - loss: 6.9563 - mae: 6.9563\n",
      "Epoch 88/100\n",
      "1/1 [==============================] - 0s 4ms/step - loss: 6.9506 - mae: 6.9506\n",
      "Epoch 89/100\n",
      "1/1 [==============================] - 0s 4ms/step - loss: 6.9450 - mae: 6.9450\n",
      "Epoch 90/100\n",
      "1/1 [==============================] - 0s 4ms/step - loss: 6.9394 - mae: 6.9394\n",
      "Epoch 91/100\n",
      "1/1 [==============================] - 0s 5ms/step - loss: 6.9338 - mae: 6.9338\n",
      "Epoch 92/100\n",
      "1/1 [==============================] - 0s 4ms/step - loss: 6.9281 - mae: 6.9281\n",
      "Epoch 93/100\n",
      "1/1 [==============================] - 0s 4ms/step - loss: 6.9225 - mae: 6.9225\n",
      "Epoch 94/100\n",
      "1/1 [==============================] - 0s 4ms/step - loss: 6.9169 - mae: 6.9169\n",
      "Epoch 95/100\n",
      "1/1 [==============================] - 0s 4ms/step - loss: 6.9113 - mae: 6.9113\n",
      "Epoch 96/100\n",
      "1/1 [==============================] - 0s 4ms/step - loss: 6.9056 - mae: 6.9056\n",
      "Epoch 97/100\n",
      "1/1 [==============================] - 0s 4ms/step - loss: 6.9000 - mae: 6.9000\n",
      "Epoch 98/100\n",
      "1/1 [==============================] - 0s 4ms/step - loss: 6.8944 - mae: 6.8944\n",
      "Epoch 99/100\n",
      "1/1 [==============================] - 0s 4ms/step - loss: 6.8888 - mae: 6.8888\n",
      "Epoch 100/100\n",
      "1/1 [==============================] - 0s 4ms/step - loss: 6.8831 - mae: 6.8831\n"
     ]
    },
    {
     "data": {
      "text/plain": [
       "<keras.src.callbacks.History at 0x7fa10c1afaf0>"
      ]
     },
     "execution_count": 24,
     "metadata": {},
     "output_type": "execute_result"
    }
   ],
   "source": [
    "# Lets rebuild our model\n",
    "\n",
    "# 1. Create the Model\n",
    "model = tf.keras.Sequential()\n",
    "model.add(tf.keras.layers.Dense(1))\n",
    "\n",
    "# 2. Compile the Model\n",
    "model.compile(loss=tf.keras.losses.mae,\n",
    "              optimizer=tf.keras.optimizers.SGD(),\n",
    "              metrics=['mae'],\n",
    "              )\n",
    "\n",
    "# 3. Fit the Model (this time we will train longer)\n",
    "model.fit(tf.expand_dims(X, axis=-1), y, epochs=100)"
   ]
  },
  {
   "cell_type": "code",
   "execution_count": 25,
   "metadata": {},
   "outputs": [
    {
     "data": {
      "text/plain": [
       "(<tf.Tensor: shape=(8,), dtype=float32, numpy=array([-7., -4., -1.,  2.,  5.,  8., 11., 14.], dtype=float32)>,\n",
       " <tf.Tensor: shape=(8,), dtype=float32, numpy=array([ 3.,  6.,  9., 12., 15., 18., 21., 24.], dtype=float32)>)"
      ]
     },
     "execution_count": 25,
     "metadata": {},
     "output_type": "execute_result"
    }
   ],
   "source": [
    "# Remind ourself the data\n",
    "X, y"
   ]
  },
  {
   "cell_type": "code",
   "execution_count": 26,
   "metadata": {},
   "outputs": [
    {
     "name": "stdout",
     "output_type": "stream",
     "text": [
      "WARNING:tensorflow:6 out of the last 8 calls to <function Model.make_predict_function.<locals>.predict_function at 0x7fa10cb77a30> triggered tf.function retracing. Tracing is expensive and the excessive number of tracings could be due to (1) creating @tf.function repeatedly in a loop, (2) passing tensors with different shapes, (3) passing Python objects instead of tensors. For (1), please define your @tf.function outside of the loop. For (2), @tf.function has reduce_retracing=True option that can avoid unnecessary retracing. For (3), please refer to https://www.tensorflow.org/guide/function#controlling_retracing and https://www.tensorflow.org/api_docs/python/tf/function for  more details.\n",
      "1/1 [==============================] - 0s 38ms/step\n"
     ]
    },
    {
     "data": {
      "text/plain": [
       "array([[29.788221]], dtype=float32)"
      ]
     },
     "execution_count": 26,
     "metadata": {},
     "output_type": "execute_result"
    }
   ],
   "source": [
    "# Try and make prediction using our model\n",
    "y_pred_1 = model.predict([17])\n",
    "y_pred_1"
   ]
  },
  {
   "cell_type": "code",
   "execution_count": 49,
   "metadata": {},
   "outputs": [
    {
     "name": "stdout",
     "output_type": "stream",
     "text": [
      "Epoch 1/100\n"
     ]
    },
    {
     "name": "stdout",
     "output_type": "stream",
     "text": [
      "1/1 [==============================] - 0s 365ms/step - loss: 13.3760 - mae: 13.3760\n",
      "Epoch 2/100\n",
      "1/1 [==============================] - 0s 5ms/step - loss: 12.4555 - mae: 12.4555\n",
      "Epoch 3/100\n",
      "1/1 [==============================] - 0s 5ms/step - loss: 11.5405 - mae: 11.5405\n",
      "Epoch 4/100\n",
      "1/1 [==============================] - 0s 4ms/step - loss: 10.6249 - mae: 10.6249\n",
      "Epoch 5/100\n",
      "1/1 [==============================] - 0s 4ms/step - loss: 9.7011 - mae: 9.7011\n",
      "Epoch 6/100\n",
      "1/1 [==============================] - 0s 4ms/step - loss: 8.7597 - mae: 8.7597\n",
      "Epoch 7/100\n",
      "1/1 [==============================] - 0s 4ms/step - loss: 7.7912 - mae: 7.7912\n",
      "Epoch 8/100\n",
      "1/1 [==============================] - 0s 4ms/step - loss: 6.8477 - mae: 6.8477\n",
      "Epoch 9/100\n",
      "1/1 [==============================] - 0s 6ms/step - loss: 6.9496 - mae: 6.9496\n",
      "Epoch 10/100\n",
      "1/1 [==============================] - 0s 6ms/step - loss: 7.2872 - mae: 7.2872\n",
      "Epoch 11/100\n",
      "1/1 [==============================] - 0s 5ms/step - loss: 7.5321 - mae: 7.5321\n",
      "Epoch 12/100\n",
      "1/1 [==============================] - 0s 7ms/step - loss: 7.5189 - mae: 7.5189\n",
      "Epoch 13/100\n",
      "1/1 [==============================] - 0s 4ms/step - loss: 7.2474 - mae: 7.2474\n",
      "Epoch 14/100\n",
      "1/1 [==============================] - 0s 4ms/step - loss: 6.9278 - mae: 6.9278\n",
      "Epoch 15/100\n",
      "1/1 [==============================] - 0s 6ms/step - loss: 6.6086 - mae: 6.6086\n",
      "Epoch 16/100\n",
      "1/1 [==============================] - 0s 5ms/step - loss: 6.2673 - mae: 6.2673\n",
      "Epoch 17/100\n",
      "1/1 [==============================] - 0s 4ms/step - loss: 6.1703 - mae: 6.1703\n",
      "Epoch 18/100\n",
      "1/1 [==============================] - 0s 4ms/step - loss: 6.2276 - mae: 6.2276\n",
      "Epoch 19/100\n",
      "1/1 [==============================] - 0s 5ms/step - loss: 6.3360 - mae: 6.3360\n",
      "Epoch 20/100\n",
      "1/1 [==============================] - 0s 12ms/step - loss: 6.2963 - mae: 6.2963\n",
      "Epoch 21/100\n",
      "1/1 [==============================] - 0s 9ms/step - loss: 6.1301 - mae: 6.1301\n",
      "Epoch 22/100\n",
      "1/1 [==============================] - 0s 5ms/step - loss: 5.8516 - mae: 5.8516\n",
      "Epoch 23/100\n",
      "1/1 [==============================] - 0s 6ms/step - loss: 5.5996 - mae: 5.5996\n",
      "Epoch 24/100\n",
      "1/1 [==============================] - 0s 8ms/step - loss: 5.4569 - mae: 5.4569\n",
      "Epoch 25/100\n",
      "1/1 [==============================] - 0s 5ms/step - loss: 5.4067 - mae: 5.4067\n",
      "Epoch 26/100\n",
      "1/1 [==============================] - 0s 4ms/step - loss: 5.3934 - mae: 5.3934\n",
      "Epoch 27/100\n",
      "1/1 [==============================] - 0s 4ms/step - loss: 5.3223 - mae: 5.3223\n",
      "Epoch 28/100\n",
      "1/1 [==============================] - 0s 4ms/step - loss: 5.1976 - mae: 5.1976\n",
      "Epoch 29/100\n",
      "1/1 [==============================] - 0s 4ms/step - loss: 5.0233 - mae: 5.0233\n",
      "Epoch 30/100\n",
      "1/1 [==============================] - 0s 4ms/step - loss: 4.8037 - mae: 4.8037\n",
      "Epoch 31/100\n",
      "1/1 [==============================] - 0s 4ms/step - loss: 4.5423 - mae: 4.5423\n",
      "Epoch 32/100\n",
      "1/1 [==============================] - 0s 4ms/step - loss: 4.4166 - mae: 4.4166\n",
      "Epoch 33/100\n",
      "1/1 [==============================] - 0s 4ms/step - loss: 4.3148 - mae: 4.3148\n",
      "Epoch 34/100\n",
      "1/1 [==============================] - 0s 4ms/step - loss: 4.2149 - mae: 4.2149\n",
      "Epoch 35/100\n",
      "1/1 [==============================] - 0s 4ms/step - loss: 3.9523 - mae: 3.9523\n",
      "Epoch 36/100\n",
      "1/1 [==============================] - 0s 4ms/step - loss: 3.7127 - mae: 3.7127\n",
      "Epoch 37/100\n",
      "1/1 [==============================] - 0s 4ms/step - loss: 3.5272 - mae: 3.5272\n",
      "Epoch 38/100\n",
      "1/1 [==============================] - 0s 4ms/step - loss: 3.3968 - mae: 3.3968\n",
      "Epoch 39/100\n",
      "1/1 [==============================] - 0s 7ms/step - loss: 3.1961 - mae: 3.1961\n",
      "Epoch 40/100\n",
      "1/1 [==============================] - 0s 6ms/step - loss: 2.9267 - mae: 2.9267\n",
      "Epoch 41/100\n",
      "1/1 [==============================] - 0s 9ms/step - loss: 2.5903 - mae: 2.5903\n",
      "Epoch 42/100\n",
      "1/1 [==============================] - 0s 5ms/step - loss: 2.3297 - mae: 2.3297\n",
      "Epoch 43/100\n",
      "1/1 [==============================] - 0s 11ms/step - loss: 2.2516 - mae: 2.2516\n",
      "Epoch 44/100\n",
      "1/1 [==============================] - 0s 8ms/step - loss: 1.9776 - mae: 1.9776\n",
      "Epoch 45/100\n",
      "1/1 [==============================] - 0s 6ms/step - loss: 1.4908 - mae: 1.4908\n",
      "Epoch 46/100\n",
      "1/1 [==============================] - 0s 5ms/step - loss: 1.2247 - mae: 1.2247\n",
      "Epoch 47/100\n",
      "1/1 [==============================] - 0s 6ms/step - loss: 1.0753 - mae: 1.0753\n",
      "Epoch 48/100\n",
      "1/1 [==============================] - 0s 10ms/step - loss: 0.6727 - mae: 0.6727\n",
      "Epoch 49/100\n",
      "1/1 [==============================] - 0s 8ms/step - loss: 0.1744 - mae: 0.1744\n",
      "Epoch 50/100\n",
      "1/1 [==============================] - 0s 6ms/step - loss: 0.5204 - mae: 0.5204\n",
      "Epoch 51/100\n",
      "1/1 [==============================] - 0s 8ms/step - loss: 0.6059 - mae: 0.6059\n",
      "Epoch 52/100\n",
      "1/1 [==============================] - 0s 9ms/step - loss: 0.9883 - mae: 0.9883\n",
      "Epoch 53/100\n",
      "1/1 [==============================] - 0s 5ms/step - loss: 1.1458 - mae: 1.1458\n",
      "Epoch 54/100\n",
      "1/1 [==============================] - 0s 11ms/step - loss: 1.0167 - mae: 1.0167\n",
      "Epoch 55/100\n",
      "1/1 [==============================] - 0s 5ms/step - loss: 1.0579 - mae: 1.0579\n",
      "Epoch 56/100\n",
      "1/1 [==============================] - 0s 5ms/step - loss: 1.0446 - mae: 1.0446\n",
      "Epoch 57/100\n",
      "1/1 [==============================] - 0s 5ms/step - loss: 0.8618 - mae: 0.8618\n",
      "Epoch 58/100\n",
      "1/1 [==============================] - 0s 5ms/step - loss: 0.8571 - mae: 0.8571\n",
      "Epoch 59/100\n",
      "1/1 [==============================] - 0s 4ms/step - loss: 0.7042 - mae: 0.7042\n",
      "Epoch 60/100\n",
      "1/1 [==============================] - 0s 13ms/step - loss: 0.3406 - mae: 0.3406\n",
      "Epoch 61/100\n",
      "1/1 [==============================] - 0s 6ms/step - loss: 0.3370 - mae: 0.3370\n",
      "Epoch 62/100\n",
      "1/1 [==============================] - 0s 7ms/step - loss: 0.2237 - mae: 0.2237\n",
      "Epoch 63/100\n",
      "1/1 [==============================] - 0s 5ms/step - loss: 0.3486 - mae: 0.3486\n",
      "Epoch 64/100\n",
      "1/1 [==============================] - 0s 4ms/step - loss: 0.4706 - mae: 0.4706\n",
      "Epoch 65/100\n",
      "1/1 [==============================] - 0s 6ms/step - loss: 0.4254 - mae: 0.4254\n",
      "Epoch 66/100\n",
      "1/1 [==============================] - 0s 7ms/step - loss: 0.5026 - mae: 0.5026\n",
      "Epoch 67/100\n",
      "1/1 [==============================] - 0s 7ms/step - loss: 0.4057 - mae: 0.4057\n",
      "Epoch 68/100\n",
      "1/1 [==============================] - 0s 5ms/step - loss: 0.3833 - mae: 0.3833\n",
      "Epoch 69/100\n",
      "1/1 [==============================] - 0s 5ms/step - loss: 0.2373 - mae: 0.2373\n",
      "Epoch 70/100\n",
      "1/1 [==============================] - 0s 5ms/step - loss: 0.2398 - mae: 0.2398\n",
      "Epoch 71/100\n",
      "1/1 [==============================] - 0s 5ms/step - loss: 0.1860 - mae: 0.1860\n",
      "Epoch 72/100\n",
      "1/1 [==============================] - 0s 7ms/step - loss: 0.3567 - mae: 0.3567\n",
      "Epoch 73/100\n",
      "1/1 [==============================] - 0s 6ms/step - loss: 0.5103 - mae: 0.5103\n",
      "Epoch 74/100\n",
      "1/1 [==============================] - 0s 4ms/step - loss: 0.4273 - mae: 0.4273\n",
      "Epoch 75/100\n",
      "1/1 [==============================] - 0s 4ms/step - loss: 0.3219 - mae: 0.3219\n",
      "Epoch 76/100\n",
      "1/1 [==============================] - 0s 5ms/step - loss: 0.3549 - mae: 0.3549\n",
      "Epoch 77/100\n",
      "1/1 [==============================] - 0s 5ms/step - loss: 0.1121 - mae: 0.1121\n",
      "Epoch 78/100\n",
      "1/1 [==============================] - 0s 4ms/step - loss: 0.1757 - mae: 0.1757\n",
      "Epoch 79/100\n",
      "1/1 [==============================] - 0s 5ms/step - loss: 0.1145 - mae: 0.1145\n",
      "Epoch 80/100\n",
      "1/1 [==============================] - 0s 5ms/step - loss: 0.1333 - mae: 0.1333\n",
      "Epoch 81/100\n",
      "1/1 [==============================] - 0s 4ms/step - loss: 0.1575 - mae: 0.1575\n",
      "Epoch 82/100\n",
      "1/1 [==============================] - 0s 4ms/step - loss: 0.1687 - mae: 0.1687\n",
      "Epoch 83/100\n",
      "1/1 [==============================] - 0s 5ms/step - loss: 0.0381 - mae: 0.0381\n",
      "Epoch 84/100\n",
      "1/1 [==============================] - 0s 4ms/step - loss: 0.1236 - mae: 0.1236\n",
      "Epoch 85/100\n",
      "1/1 [==============================] - 0s 5ms/step - loss: 0.1647 - mae: 0.1647\n",
      "Epoch 86/100\n",
      "1/1 [==============================] - 0s 5ms/step - loss: 0.1420 - mae: 0.1420\n",
      "Epoch 87/100\n",
      "1/1 [==============================] - 0s 4ms/step - loss: 0.1860 - mae: 0.1860\n",
      "Epoch 88/100\n",
      "1/1 [==============================] - 0s 5ms/step - loss: 0.0755 - mae: 0.0755\n",
      "Epoch 89/100\n",
      "1/1 [==============================] - 0s 5ms/step - loss: 0.0620 - mae: 0.0620\n",
      "Epoch 90/100\n",
      "1/1 [==============================] - 0s 4ms/step - loss: 0.1746 - mae: 0.1746\n",
      "Epoch 91/100\n",
      "1/1 [==============================] - 0s 4ms/step - loss: 0.1078 - mae: 0.1078\n",
      "Epoch 92/100\n",
      "1/1 [==============================] - 0s 4ms/step - loss: 0.1037 - mae: 0.1037\n",
      "Epoch 93/100\n",
      "1/1 [==============================] - 0s 4ms/step - loss: 0.1555 - mae: 0.1555\n",
      "Epoch 94/100\n",
      "1/1 [==============================] - 0s 5ms/step - loss: 0.0328 - mae: 0.0328\n",
      "Epoch 95/100\n",
      "1/1 [==============================] - 0s 5ms/step - loss: 0.3361 - mae: 0.3361\n",
      "Epoch 96/100\n",
      "1/1 [==============================] - 0s 4ms/step - loss: 0.3102 - mae: 0.3102\n",
      "Epoch 97/100\n",
      "1/1 [==============================] - 0s 4ms/step - loss: 0.0693 - mae: 0.0693\n",
      "Epoch 98/100\n",
      "1/1 [==============================] - 0s 4ms/step - loss: 0.0826 - mae: 0.0826\n",
      "Epoch 99/100\n",
      "1/1 [==============================] - 0s 4ms/step - loss: 0.2275 - mae: 0.2275\n",
      "Epoch 100/100\n",
      "1/1 [==============================] - 0s 5ms/step - loss: 0.1783 - mae: 0.1783\n"
     ]
    },
    {
     "data": {
      "text/plain": [
       "<keras.src.callbacks.History at 0x7fa0e0ceac20>"
      ]
     },
     "execution_count": 49,
     "metadata": {},
     "output_type": "execute_result"
    }
   ],
   "source": [
    "# Lets rebuild our model again (adding hidden layers and changing optimizers)\n",
    "\n",
    "# 1. Create the Model\n",
    "model = tf.keras.Sequential()\n",
    "model.add(tf.keras.layers.Dense(100, activation=None))\n",
    "model.add(tf.keras.layers.Dense(1))\n",
    "\n",
    "# 2. Compile the Model\n",
    "model.compile(loss=\"mae\",\n",
    "              optimizer=tf.keras.optimizers.Adam(learning_rate=0.01),\n",
    "              metrics=['mae'],\n",
    "              )\n",
    "\n",
    "# 3. Fit the Model (this time we will train longer)\n",
    "model.fit(tf.expand_dims(X, axis=-1), y, epochs=100)"
   ]
  },
  {
   "cell_type": "code",
   "execution_count": 50,
   "metadata": {},
   "outputs": [
    {
     "name": "stdout",
     "output_type": "stream",
     "text": [
      "1/1 [==============================] - 0s 41ms/step\n"
     ]
    },
    {
     "data": {
      "text/plain": [
       "array([[26.486822]], dtype=float32)"
      ]
     },
     "execution_count": 50,
     "metadata": {},
     "output_type": "execute_result"
    }
   ],
   "source": [
    "# Try and make prediction using  our model\n",
    "y_pred_2 = model.predict([17])\n",
    "y_pred_2"
   ]
  }
 ],
 "metadata": {
  "kernelspec": {
   "display_name": ".venv",
   "language": "python",
   "name": "python3"
  },
  "language_info": {
   "codemirror_mode": {
    "name": "ipython",
    "version": 3
   },
   "file_extension": ".py",
   "mimetype": "text/x-python",
   "name": "python",
   "nbconvert_exporter": "python",
   "pygments_lexer": "ipython3",
   "version": "3.10.13"
  }
 },
 "nbformat": 4,
 "nbformat_minor": 2
}
